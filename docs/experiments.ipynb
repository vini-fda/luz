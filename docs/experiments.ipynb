{
 "cells": [
  {
   "cell_type": "markdown",
   "metadata": {},
   "source": [
    "# Refraction\n",
    "\n",
    "$\\textbf{i}$, $\\textbf{n}$ and $\\textbf{t}$ are of unit length.\n",
    "\n",
    "$$\\textbf{t} = \\eta \\textbf{i} + (\\eta \\textbf{i} \\cdot \\textbf{n} - \\sqrt{1 - \\eta^2 |\\textbf{i} \\cdot \\textbf{n}|^2}) \\textbf{n}$$"
   ]
  },
  {
   "cell_type": "code",
   "execution_count": 7,
   "metadata": {},
   "outputs": [
    {
     "data": {
      "text/plain": [
       "t (generic function with 2 methods)"
      ]
     },
     "execution_count": 7,
     "metadata": {},
     "output_type": "execute_result"
    }
   ],
   "source": [
    "using LinearAlgebra\n",
    "function t(i, n, η)\n",
    "    d = dot(i, n)\n",
    "    return η * i + (η * d - sqrt(1 - (η * d)^2)) * n\n",
    "end"
   ]
  },
  {
   "cell_type": "code",
   "execution_count": 8,
   "metadata": {},
   "outputs": [
    {
     "data": {
      "text/plain": [
       "2-element Vector{Float64}:\n",
       "  0.6\n",
       " -2.0"
      ]
     },
     "execution_count": 8,
     "metadata": {},
     "output_type": "execute_result"
    }
   ],
   "source": [
    "i = [1; -1]\n",
    "n = [0; 1]\n",
    "η = 0.6\n",
    "\n",
    "t(i, n, η)"
   ]
  },
  {
   "cell_type": "code",
   "execution_count": null,
   "metadata": {},
   "outputs": [],
   "source": []
  }
 ],
 "metadata": {
  "kernelspec": {
   "display_name": "Julia 1.8.1",
   "language": "julia",
   "name": "julia-1.8"
  },
  "language_info": {
   "file_extension": ".jl",
   "mimetype": "application/julia",
   "name": "julia",
   "version": "1.8.1"
  },
  "orig_nbformat": 4
 },
 "nbformat": 4,
 "nbformat_minor": 2
}
